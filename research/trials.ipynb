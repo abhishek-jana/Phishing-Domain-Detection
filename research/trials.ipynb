{
 "cells": [
  {
   "cell_type": "code",
   "execution_count": 8,
   "metadata": {},
   "outputs": [
    {
     "name": "stdout",
     "output_type": "stream",
     "text": [
      "Zip file downloaded and extracted successfully.\n"
     ]
    }
   ],
   "source": [
    "# import requests\n",
    "import urllib.request as request\n",
    "import zipfile\n",
    "import os\n",
    "import io\n",
    "dir = os.getcwd()\n",
    "# Replace 'your-zip-file-url' with the actual URL of the zip file you want to download\n",
    "zip_file_url = 'https://github.com/abhishek-jana/Datasets/raw/main/NSL-KDD.zip'\n",
    "\n",
    "# Replace 'path-to-download-directory' with the local directory where you want to save the zip file\n",
    "download_path = 'path-to-download-directory'\n",
    "\n",
    "# Make a GET request to download the zip file\n",
    "zip_file_path, _ = request.urlretrieve(zip_file_url, 'downloaded.zip')\n",
    "\n",
    "\n",
    "    # Open the zip file in memory\n",
    "with zipfile.ZipFile(zip_file_path, 'r') as zip_ref:\n",
    "    # Extract each file in the zip archive to the specified directory\n",
    "    zip_ref.extractall(dir)\n",
    "\n",
    "    print(\"Zip file downloaded and extracted successfully.\")\n",
    "os.remove(zip_file_path)"
   ]
  },
  {
   "cell_type": "code",
   "execution_count": null,
   "metadata": {},
   "outputs": [],
   "source": []
  }
 ],
 "metadata": {
  "kernelspec": {
   "display_name": "Python 3",
   "language": "python",
   "name": "python3"
  },
  "language_info": {
   "codemirror_mode": {
    "name": "ipython",
    "version": 3
   },
   "file_extension": ".py",
   "mimetype": "text/x-python",
   "name": "python",
   "nbconvert_exporter": "python",
   "pygments_lexer": "ipython3",
   "version": "3.8.0"
  }
 },
 "nbformat": 4,
 "nbformat_minor": 2
}
